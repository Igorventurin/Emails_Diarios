{
 "cells": [
  {
   "cell_type": "markdown",
   "id": "2a1cb9fe",
   "metadata": {},
   "source": [
    "# ENVIO DE E-MAIL DIÁRIO\n",
    "Código criado para enviar e-mails diariamente, respeitando o limite diário de 500 e-mail do gmail para não ser cair no spam.\n",
    "#### DEV: Igor Matheus Lial Venturin"
   ]
  },
  {
   "cell_type": "markdown",
   "id": "1fb1476c",
   "metadata": {},
   "source": [
    "#### README:\n",
    "Para o funcionamento do código é necessario uma planilha com a primeira célula escrita \"email\" e abaixo todos os e-mails que você pretende enviar a mensagem e que o e-mail seja configurado de forma a permitir o uso de aplicativos de baixa integridade, tal configuração deve ser feita entrando no gerenciamento da conta google na sessão de segurança."
   ]
  },
  {
   "cell_type": "code",
   "execution_count": 1,
   "id": "cccda2c4",
   "metadata": {},
   "outputs": [],
   "source": [
    "import time\n",
    "from selenium import webdriver\n",
    "from selenium.webdriver.common.keys import Keys\n",
    "from selenium.webdriver.common.by import By\n",
    "from selenium.webdriver import ActionChains\n",
    "import pandas as pd\n",
    "import pyautogui"
   ]
  },
  {
   "cell_type": "markdown",
   "id": "53caff16",
   "metadata": {},
   "source": [
    "#### LENDO A PLANILHA COM O EMAILS"
   ]
  },
  {
   "cell_type": "code",
   "execution_count": 2,
   "id": "d142017d",
   "metadata": {
    "scrolled": true
   },
   "outputs": [
    {
     "data": {
      "text/html": [
       "<div>\n",
       "<style scoped>\n",
       "    .dataframe tbody tr th:only-of-type {\n",
       "        vertical-align: middle;\n",
       "    }\n",
       "\n",
       "    .dataframe tbody tr th {\n",
       "        vertical-align: top;\n",
       "    }\n",
       "\n",
       "    .dataframe thead th {\n",
       "        text-align: right;\n",
       "    }\n",
       "</style>\n",
       "<table border=\"1\" class=\"dataframe\">\n",
       "  <thead>\n",
       "    <tr style=\"text-align: right;\">\n",
       "      <th></th>\n",
       "    </tr>\n",
       "    <tr>\n",
       "      <th>email</th>\n",
       "    </tr>\n",
       "  </thead>\n",
       "  <tbody>\n",
       "    <tr>\n",
       "      <th>teste@hotmail.com</th>\n",
       "    </tr>\n",
       "    <tr>\n",
       "      <th>teste1@gmail.com</th>\n",
       "    </tr>\n",
       "    <tr>\n",
       "      <th>teste2@gmail.com</th>\n",
       "    </tr>\n",
       "    <tr>\n",
       "      <th>teste3hotmail.com</th>\n",
       "    </tr>\n",
       "    <tr>\n",
       "      <th>teste4@ufma.br</th>\n",
       "    </tr>\n",
       "    <tr>\n",
       "      <th>...</th>\n",
       "    </tr>\n",
       "    <tr>\n",
       "      <th>teste5@yahoo.com.br</th>\n",
       "    </tr>\n",
       "    <tr>\n",
       "      <th>teste6@ifma.edu.br</th>\n",
       "    </tr>\n",
       "    <tr>\n",
       "      <th>teste7@ifma.edu.br</th>\n",
       "    </tr>\n",
       "    <tr>\n",
       "      <th>teste8@hotmail.com</th>\n",
       "    </tr>\n",
       "    <tr>\n",
       "      <th>teste9*yahoo.com.br</th>\n",
       "    </tr>\n",
       "  </tbody>\n",
       "</table>\n",
       "<p>10240 rows × 0 columns</p>\n",
       "</div>"
      ],
      "text/plain": [
       "Empty DataFrame\n",
       "Columns: []\n",
       "Index: [haroldobandeira@hotmail.com, afranio@gazolla.com, lopesnadja22@gmail.com, santoskeylla18@hotmail.com, romao@ufma.br, alanojr_1@yahoo.com.br, luiz.nascimento@ifma.edu.br, biamsilva19@hotmail.com, waldikviana@hotmail.com, taffarelcastro@yahoo.com, macedo@ifma.edu.br, marcmont@gmail.com, andreiapol@yahoo.com.br, paulinha_15_pam@yahoo.com.br, cledsonnogueira@hotmail.com, chicosantos300@hotmail.com, arkleybandeira@hotmail.com, haroldo.ferreira@globo.com, jhenrique.ribeiro@bol.com.br, edwardberto@yahoo.com.br, jorgemeireles1@bol.com.br, ramid7@hotmail.com, annykristen@yahoo.com.br, geraldoerli@yahoo.com.br, geanerama@hotmail.com, eurivan1@hotmail.com, conrado1618@hotmail.com, locatelli_ma@hotmail.com, lelekadiniz@hotmail.com, fstfonseca@yahoo.com.br, martahpiovesan@hotmail.com, silvianelson@gmail.com, limachl@hotmail.com, daniabreu05@msn.com, beth_kika@hotmail.com, augustuferreira@bol.com.br, bigbig1975@hotmail.com, krolgarcia@gmail.com, josefablopes@uol.com.br, vanessarodriguesara@gmail.com, belfares@uol.com.br, jguimma@ifma.edu.br, antaki@andrew.cmu.edu, helmanut@gmail.com, allyssonbiofn@yahoo.com.br, cirolb@yahoo.com.br, polyana.amorim@gmail.com, rejeana@ifma.edu.br, hcosta@elo.com.br, medeirosalf@gmail.com, araujo_ediel@yahoo.com.br, bonfim@elointernet.com.br, dilabooz@yahoo.com.br, maciel.m@uol.com.br, ellidaguedes@gmail.com, alexsandro_bio@yahoo.com.br, isadora_franc@hotmail.com, nivaniacamelo@yahoo.com.br, monicacbpm@yahoo.com.br, elianerabreu@uol.com.br, vanessaslz@yahoo.com.br, anachampoudry@gmail.com, mrm.mendes@yahoo.com.br, ei_llanny@oi.com.br, pessoabarrett@hotmail.com, mcosantos@ig.com.br, fernandoteatro@hotmail.com, nivaldopiorski@gmail.com, michele.martins@uemasul.edu.br, eva.nobre@ifma.edu.br, lucianobezerrareis@yahoo.com.br, helberholiveira@yahoo.com.br, newton2346@yahoo.com.br, darlanveggito@hotmail.com, gabriel_moraes.s@hotmail.com, denilson_licar@hotmail.com, aldalea.ufma@hotmail.com, monica.gama@ufma.br, sonayradias@hotmail.com, diogo.correa@ufma.br, jlcpereira@hotmail.com, pedrodealmeidacanto@gmail.com, rodrigo.celso4752@terra.com.br, rinaldo.mota@hotmail.com, silvanaaaquino@hotmail.com, 8leleco8@gmail.com, silvanalsousa@hotmail.com, shenna_dallen@hotmail.com, nahyara@hotmail.com, sampaiocoqueiro@yahoo.com.br, ivaldojsilva@ifma.edu.br, bbfontenele@hotmal.com, romimacamara@yahoo.com.br, ruanabeckman@hotmail.com, tarouco.oc@oi.com.br, lublazejuksaldanha@gmail.com, c.marlonpossani@gmail.com, analuciaguerra@elo.com.br, viviansaboia@hotmail.com, idalia_ribeiro@hotmail.com, ...]\n",
       "\n",
       "[10240 rows x 0 columns]"
      ]
     },
     "execution_count": 2,
     "metadata": {},
     "output_type": "execute_result"
    }
   ],
   "source": [
    "emails = pd.read_excel(\"LISTA_EMAILS\") # <---- Coloque dentro das \"\"(aspas) o nome do arquivo que contém a lista de e-mails\n",
    "emails.set_index('email')"
   ]
  },
  {
   "cell_type": "markdown",
   "id": "eff5c0f0",
   "metadata": {},
   "source": [
    "#### EXTRAINDO O TEXTO DO E-MAIL\n",
    "OBS: O texto irá exatamente da forma como foi escrita no Google Doc, com imagens, formatação e etc"
   ]
  },
  {
   "cell_type": "code",
   "execution_count": 3,
   "id": "d4a4b191",
   "metadata": {
    "scrolled": true
   },
   "outputs": [],
   "source": [
    "driver = webdriver.Chrome()\n",
    "driver.get('DOC GOOGLE') #<-- Link do Doc com o texto\n",
    "driver.maximize_window()\n",
    "actions=ActionChains(driver)\n",
    "time.sleep(15)\n",
    "\n",
    "#Selecionando todo o texto do documento e copiando\n",
    "actions.key_down(Keys.CONTROL).send_keys('a').key_up(Keys.CONTROL).perform()\n",
    "time.sleep(3)\n",
    "actions.key_down(Keys.CONTROL).send_keys('c').key_up(Keys.CONTROL).perform()"
   ]
  },
  {
   "cell_type": "markdown",
   "id": "b110d96f",
   "metadata": {},
   "source": [
    "#### CADA BLOCO POSSUI UM CONTA QUE VOCÊ DESEJA UTILIZAR PARA OS ENVIOS\n",
    "Neste código foram utilizadas apenas duas contas"
   ]
  },
  {
   "cell_type": "markdown",
   "id": "adb430bb",
   "metadata": {},
   "source": [
    "#### CONTA 1"
   ]
  },
  {
   "cell_type": "code",
   "execution_count": 4,
   "id": "481a95aa",
   "metadata": {
    "scrolled": true
   },
   "outputs": [],
   "source": [
    "                                               #CONTA DO EIXO UNIVERSIDADE\n",
    "\n",
    "#ABRINDO O NAVEGADOR\n",
    "driver.get('https://mail.google.com/mail/u/0/#inbox')\n",
    "time.sleep(15)\n",
    "driver.maximize_window()\n",
    "time.sleep(5)\n",
    "\n",
    "#FAZENDO LOGIN NO E-MAIL E ABRINDO A CAIXA PARA ESCREVER O E-MAIL\n",
    "driver.find_element(By.XPATH, '/html/body/header/div/div/div/a[2]').click() #clicando pra iniciar sessão\n",
    "time.sleep(10)\n",
    "driver.find_element(By.XPATH, '//*[@id=\"identifierId\"]').click() #clicando pra fazer login\n",
    "time.sleep(3)\n",
    "driver.find_element(By.XPATH, '//*[@id=\"identifierId\"]').send_keys(\"LOGIN\") # <-- Login da conta\n",
    "driver.find_element(By.XPATH, '//*[@id=\"identifierId\"]').send_keys(Keys.ENTER)\n",
    "time.sleep(10)\n",
    "driver.find_element(By.XPATH, '//*[@id=\"password\"]/div[1]/div/div[1]/input').send_keys(\"SENHA\") # <-- Senha da conta\n",
    "driver.find_element(By.XPATH, '//*[@id=\"password\"]/div[1]/div/div[1]/input').send_keys(Keys.ENTER)\n",
    "time.sleep(30)\n",
    "driver.find_element(By.XPATH, '/html/body/div[7]/div[3]/div/div[2]/div[1]/div[1]/div[1]/div/div').click()\n",
    "time.sleep(3)\n",
    "driver.find_element(By.XPATH, '//*[@id=\":mm\"]').click()\n",
    "time.sleep(3)\n",
    "driver.find_element(By.XPATH, '//*[@id=\":q0\"]').click()\n",
    "time.sleep(3)\n",
    "driver.find_element(By.XPATH, '//*[@id=\":q0\"]').click()\n",
    "time.sleep(4)\n",
    "\n",
    "#COLOCANDO OS E-MAILS\n",
    "for i in range(0,499):\n",
    "    email_bruto = emails.iloc[ i:(i+1) , 0]\n",
    "    email_tratado = (email_bruto[i].split(\" \"))\n",
    "    driver.find_element(By.XPATH, '//*[@id=\":q0\"]').send_keys(email_tratado,\", \")\n",
    "time.sleep(5)\n",
    "\n",
    "#COLOCANDO O ASSUNTO\n",
    "actions.key_down(Keys.TAB).key_up(Keys.TAB).perform()\n",
    "time.sleep(3)\n",
    "driver.find_element(By.XPATH, '//*[@id=\":pg\"]').send_keys(\"PORROGAÇÃO do Edital Centelha 2!!!\") # <---- ASSUNTO DO E-MAIl\n",
    "time.sleep(3)\n",
    "driver.find_element(By.XPATH, '//*[@id=\":ql\"]/div[1]').click()\n",
    "time.sleep(3)\n",
    "actions.key_down(Keys.CONTROL).send_keys('v').key_up(Keys.CONTROL).perform()\n",
    "time.sleep(10)\n",
    "actions.key_down(Keys.CONTROL).key_down(Keys.ENTER).key_up(Keys.CONTROL).key_up(Keys.ENTER).perform()\n",
    "time.sleep(10)\n",
    "driver.quit()\n"
   ]
  },
  {
   "cell_type": "markdown",
   "id": "9ce2d9a6",
   "metadata": {},
   "source": [
    "#### CONTA 2"
   ]
  },
  {
   "cell_type": "code",
   "execution_count": 5,
   "id": "d19a9db6",
   "metadata": {},
   "outputs": [],
   "source": [
    "                                                   #CONTA 2 DO EIXO UNIVERSIDADE\n",
    "\n",
    "#ABRINDO O NAVEGADOR\n",
    "time.sleep(5)\n",
    "driver = webdriver.Chrome()\n",
    "actions=ActionChains(driver)\n",
    "time.sleep(5)\n",
    "driver.get('https://mail.google.com/mail/u/0/#inbox')\n",
    "time.sleep(5)\n",
    "driver.maximize_window()\n",
    "time.sleep(5)\n",
    "\n",
    "#FAZENDO LOGIN NO E-MAIL E ABRINDO A CAIXA PARA ESCREVER O E-MAIL\n",
    "driver.find_element(By.XPATH, '//*[@id=\"identifierId\"]').click() #clicando pra fazer login\n",
    "time.sleep(3)\n",
    "driver.find_element(By.XPATH, '//*[@id=\"identifierId\"]').send_keys(\"LOGIN\") # <-- Login da conta\n",
    "driver.find_element(By.XPATH, '//*[@id=\"identifierId\"]').send_keys(Keys.ENTER)\n",
    "time.sleep(10)\n",
    "driver.find_element(By.XPATH, '//*[@id=\"password\"]/div[1]/div/div[1]/input').send_keys(\"SENHA\") # <-- Senha da conta\n",
    "driver.find_element(By.XPATH, '//*[@id=\"password\"]/div[1]/div/div[1]/input').send_keys(Keys.ENTER)\n",
    "time.sleep(10)\n",
    "\n",
    "#Clicar em escrever novo e-mail\n",
    "driver.find_element(By.XPATH, '/html/body/div[7]/div[3]/div/div[2]/div[1]/div[1]/div[1]/div/div').click()\n",
    "time.sleep(3)\n",
    "#Colocando envio CCO\n",
    "actions.key_down(Keys.CONTROL).key_down(Keys.SHIFT).send_keys('b').key_up(Keys.CONTROL).key_up(Keys.SHIFT).perform()\n",
    "time.sleep(3)\n",
    "driver.find_element(By.XPATH, '//*[@id=\":q0\"]').click()\n",
    "time.sleep(4)\n",
    "\n",
    "#COLOCANDO OS E-MAILS\n",
    "for i in range(500,1000):\n",
    "    email_bruto = emails.iloc[ i:(i+1) , 0]\n",
    "    email_tratado = (email_bruto[i].split(\" \"))\n",
    "    driver.find_element(By.XPATH, '//*[@id=\":q0\"]').send_keys(email_tratado,\", \")\n",
    "time.sleep(5)\n",
    "\n",
    "#COLOCANDO O ASSUNTO\n",
    "actions.key_down(Keys.TAB).key_up(Keys.TAB).perform()\n",
    "time.sleep(3)\n",
    "driver.find_element(By.NAME, 'subjectbox').send_keys(\"PORROGAÇÃO do Edital Centelha 2!!!\") # <---- ASSUNTO DO E-MAIl\n",
    "time.sleep(3)\n",
    "actions.key_down(Keys.TAB).key_up(Keys.TAB).perform()\n",
    "time.sleep(3)\n",
    "actions.key_down(Keys.CONTROL).send_keys('v').key_up(Keys.CONTROL).perform()\n",
    "time.sleep(10)\n",
    "actions.key_down(Keys.CONTROL).key_down(Keys.ENTER).key_up(Keys.CONTROL).key_up(Keys.ENTER).perform()\n",
    "time.sleep(10)\n",
    "driver.quit()"
   ]
  },
  {
   "cell_type": "markdown",
   "id": "1876f00b",
   "metadata": {},
   "source": [
    "#### EXCLUINDO OS E-MAILS UTILIZADOS PARA QUE NÃO ENVIE NOVAMENTE O MESMO E-MAIL"
   ]
  },
  {
   "cell_type": "code",
   "execution_count": 6,
   "id": "4fdd3b90",
   "metadata": {},
   "outputs": [],
   "source": [
    "for i in range(0,1000):\n",
    "    emails.drop( [i] , inplace = True)\n",
    "\n",
    "emails.to_excel(\"emailsgeral.xlsx\", index = False)"
   ]
  }
 ],
 "metadata": {
  "kernelspec": {
   "display_name": "Python 3 (ipykernel)",
   "language": "python",
   "name": "python3"
  },
  "language_info": {
   "codemirror_mode": {
    "name": "ipython",
    "version": 3
   },
   "file_extension": ".py",
   "mimetype": "text/x-python",
   "name": "python",
   "nbconvert_exporter": "python",
   "pygments_lexer": "ipython3",
   "version": "3.9.7"
  }
 },
 "nbformat": 4,
 "nbformat_minor": 5
}
